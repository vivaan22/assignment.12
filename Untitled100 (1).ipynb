{
 "cells": [
  {
   "cell_type": "code",
   "execution_count": null,
   "id": "7ac36bb3",
   "metadata": {},
   "outputs": [],
   "source": [
    "x = input(\"Type a number: \")\n",
    "y = input(\"Type another number: \")\n",
    "\n",
    "sum = int(x) + int(y)\n",
    "\n",
    "print(\"The sum is: \", sum)"
   ]
  },
  {
   "cell_type": "code",
   "execution_count": null,
   "id": "3f71fdff",
   "metadata": {},
   "outputs": [],
   "source": [
    "def nextPrime(N):\n",
    " \n",
    "    # Base case\n",
    "    if (N <= 1):\n",
    "        return 2\n",
    " \n",
    "    prime = N\n",
    "    found = False\n",
    " \n",
    "    # Loop continuously until isPrime returns\n",
    "    # True for a number greater than n\n",
    "    while(not found):\n",
    "        prime = prime + 1\n",
    " \n",
    "        if(isPrime(prime) == True):\n",
    "            found = True\n",
    " \n",
    "    return prime\n",
    " \n",
    "# Driver code\n",
    "N = 3\n",
    "print(nextPrime(N))"
   ]
  },
  {
   "cell_type": "code",
   "execution_count": null,
   "id": "7ed27d50",
   "metadata": {},
   "outputs": [],
   "source": [
    "def kempner(n, i=1, total=1):\n",
    "    if total % n == 0:\n",
    "        return max(1, i-1)\n",
    "    else:\n",
    "        return kempner(n, i+1, total*i)"
   ]
  },
  {
   "cell_type": "code",
   "execution_count": null,
   "id": "c9a9d0d1",
   "metadata": {},
   "outputs": [],
   "source": []
  }
 ],
 "metadata": {
  "kernelspec": {
   "display_name": "Python 3",
   "language": "python",
   "name": "python3"
  },
  "language_info": {
   "codemirror_mode": {
    "name": "ipython",
    "version": 3
   },
   "file_extension": ".py",
   "mimetype": "text/x-python",
   "name": "python",
   "nbconvert_exporter": "python",
   "pygments_lexer": "ipython3",
   "version": "3.8.8"
  }
 },
 "nbformat": 4,
 "nbformat_minor": 5
}
